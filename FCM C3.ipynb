{
 "cells": [
  {
   "cell_type": "markdown",
   "id": "b02be577",
   "metadata": {},
   "source": [
    "# Import Library"
   ]
  },
  {
   "cell_type": "code",
   "execution_count": 1,
   "id": "7ab82fc8",
   "metadata": {},
   "outputs": [],
   "source": [
    "import pandas as pd\n",
    "import numpy as np\n",
    "import operator\n",
    "import math\n",
    "import seaborn as sns\n",
    "import matplotlib.pyplot as plt\n",
    "# Use matplotlib in notebook output\n",
    "%matplotlib inline"
   ]
  },
  {
   "cell_type": "markdown",
   "id": "2adb7f6b",
   "metadata": {},
   "source": [
    "# input data"
   ]
  },
  {
   "cell_type": "code",
   "execution_count": 2,
   "id": "7deebfed",
   "metadata": {},
   "outputs": [
    {
     "data": {
      "text/html": [
       "<div>\n",
       "<style scoped>\n",
       "    .dataframe tbody tr th:only-of-type {\n",
       "        vertical-align: middle;\n",
       "    }\n",
       "\n",
       "    .dataframe tbody tr th {\n",
       "        vertical-align: top;\n",
       "    }\n",
       "\n",
       "    .dataframe thead th {\n",
       "        text-align: right;\n",
       "    }\n",
       "</style>\n",
       "<table border=\"1\" class=\"dataframe\">\n",
       "  <thead>\n",
       "    <tr style=\"text-align: right;\">\n",
       "      <th></th>\n",
       "      <th>X</th>\n",
       "      <th>Y</th>\n",
       "    </tr>\n",
       "  </thead>\n",
       "  <tbody>\n",
       "    <tr>\n",
       "      <th>0</th>\n",
       "      <td>2</td>\n",
       "      <td>10</td>\n",
       "    </tr>\n",
       "    <tr>\n",
       "      <th>1</th>\n",
       "      <td>2</td>\n",
       "      <td>5</td>\n",
       "    </tr>\n",
       "    <tr>\n",
       "      <th>2</th>\n",
       "      <td>8</td>\n",
       "      <td>4</td>\n",
       "    </tr>\n",
       "    <tr>\n",
       "      <th>3</th>\n",
       "      <td>5</td>\n",
       "      <td>8</td>\n",
       "    </tr>\n",
       "    <tr>\n",
       "      <th>4</th>\n",
       "      <td>7</td>\n",
       "      <td>5</td>\n",
       "    </tr>\n",
       "    <tr>\n",
       "      <th>5</th>\n",
       "      <td>6</td>\n",
       "      <td>4</td>\n",
       "    </tr>\n",
       "    <tr>\n",
       "      <th>6</th>\n",
       "      <td>1</td>\n",
       "      <td>2</td>\n",
       "    </tr>\n",
       "    <tr>\n",
       "      <th>7</th>\n",
       "      <td>4</td>\n",
       "      <td>9</td>\n",
       "    </tr>\n",
       "  </tbody>\n",
       "</table>\n",
       "</div>"
      ],
      "text/plain": [
       "   X   Y\n",
       "0  2  10\n",
       "1  2   5\n",
       "2  8   4\n",
       "3  5   8\n",
       "4  7   5\n",
       "5  6   4\n",
       "6  1   2\n",
       "7  4   9"
      ]
     },
     "execution_count": 2,
     "metadata": {},
     "output_type": "execute_result"
    }
   ],
   "source": [
    "lst1 = [2,2,8,5,7,6,1,4]\n",
    "lst2 =[10,5,4,8,5,4,2,9]\n",
    "df = pd.DataFrame(list(zip(lst1, lst2)),columns =['X', 'Y'])\n",
    "X=df.X\n",
    "Y=df.Y\n",
    "df"
   ]
  },
  {
   "cell_type": "markdown",
   "id": "3b4ed0fb",
   "metadata": {},
   "source": [
    "# plot datapoints"
   ]
  },
  {
   "cell_type": "code",
   "execution_count": 3,
   "id": "fc8cda7e",
   "metadata": {},
   "outputs": [
    {
     "data": {
      "image/png": "[encoded data removed]",
      "text/plain": [
       "<Figure size 432x288 with 1 Axes>"
      ]
     },
     "metadata": {
      "needs_background": "light"
     },
     "output_type": "display_data"
    }
   ],
   "source": [
    "sns.scatterplot(x=\"X\", y=\"Y\",data=df)\n",
    "plt.show()"
   ]
  },
  {
   "cell_type": "markdown",
   "id": "a908f752",
   "metadata": {},
   "source": [
    "# measure the length of dataframe"
   ]
  },
  {
   "cell_type": "code",
   "execution_count": 4,
   "id": "5310de4a",
   "metadata": {},
   "outputs": [
    {
     "data": {
      "text/plain": [
       "8"
      ]
     },
     "execution_count": 4,
     "metadata": {},
     "output_type": "execute_result"
    }
   ],
   "source": [
    "#number of data\n",
    "n = len(df)\n",
    "\n",
    "\n",
    "# m parameter\n",
    "m = 2\n",
    "n"
   ]
  },
  {
   "cell_type": "markdown",
   "id": "2ceda8b9",
   "metadata": {},
   "source": [
    "# Step1:assume the membership of the datapoints in each clusters"
   ]
  },
  {
   "cell_type": "code",
   "execution_count": 5,
   "id": "32731b55",
   "metadata": {},
   "outputs": [
    {
     "name": "stdout",
     "output_type": "stream",
     "text": [
      "0    2\n",
      "1    2\n",
      "2    8\n",
      "3    5\n",
      "4    7\n",
      "5    6\n",
      "6    1\n",
      "7    4\n",
      "Name: X, dtype: int64\n",
      "0    10\n",
      "1     5\n",
      "2     4\n",
      "3     8\n",
      "4     5\n",
      "5     4\n",
      "6     2\n",
      "7     9\n",
      "Name: Y, dtype: int64\n",
      "[1, 0, 0, 1, 0, 0, 0, 1]\n",
      "[0, 0, 1, 0, 1, 1, 0, 0]\n",
      "[0, 1, 0, 0, 0, 0, 1, 0]\n"
     ]
    }
   ],
   "source": [
    "w = [[1,0,0,1,0,0,0,1],[0,0,1,0,1,1,0,0],[0,1,0,0,0,0,1,0]]\n",
    "w\n",
    "C1=(w[0])\n",
    "C2=(w[1])\n",
    "C3=(w[2])\n",
    "print(X)\n",
    "print(Y)\n",
    "print(C1)\n",
    "print(C2)\n",
    "print(C3)"
   ]
  },
  {
   "cell_type": "markdown",
   "id": "6bc38965",
   "metadata": {},
   "source": [
    "# initial memberships shown in table below"
   ]
  },
  {
   "cell_type": "code",
   "execution_count": 6,
   "id": "1cc7f823",
   "metadata": {},
   "outputs": [
    {
     "data": {
      "text/html": [
       "<div>\n",
       "<style scoped>\n",
       "    .dataframe tbody tr th:only-of-type {\n",
       "        vertical-align: middle;\n",
       "    }\n",
       "\n",
       "    .dataframe tbody tr th {\n",
       "        vertical-align: top;\n",
       "    }\n",
       "\n",
       "    .dataframe thead th {\n",
       "        text-align: right;\n",
       "    }\n",
       "</style>\n",
       "<table border=\"1\" class=\"dataframe\">\n",
       "  <thead>\n",
       "    <tr style=\"text-align: right;\">\n",
       "      <th></th>\n",
       "      <th>X</th>\n",
       "      <th>Y</th>\n",
       "      <th>Cluster1</th>\n",
       "      <th>Cluster2</th>\n",
       "      <th>Cluster3</th>\n",
       "    </tr>\n",
       "  </thead>\n",
       "  <tbody>\n",
       "    <tr>\n",
       "      <th>0</th>\n",
       "      <td>2</td>\n",
       "      <td>10</td>\n",
       "      <td>1</td>\n",
       "      <td>0</td>\n",
       "      <td>0</td>\n",
       "    </tr>\n",
       "    <tr>\n",
       "      <th>1</th>\n",
       "      <td>2</td>\n",
       "      <td>5</td>\n",
       "      <td>0</td>\n",
       "      <td>0</td>\n",
       "      <td>1</td>\n",
       "    </tr>\n",
       "    <tr>\n",
       "      <th>2</th>\n",
       "      <td>8</td>\n",
       "      <td>4</td>\n",
       "      <td>0</td>\n",
       "      <td>1</td>\n",
       "      <td>0</td>\n",
       "    </tr>\n",
       "    <tr>\n",
       "      <th>3</th>\n",
       "      <td>5</td>\n",
       "      <td>8</td>\n",
       "      <td>1</td>\n",
       "      <td>0</td>\n",
       "      <td>0</td>\n",
       "    </tr>\n",
       "    <tr>\n",
       "      <th>4</th>\n",
       "      <td>7</td>\n",
       "      <td>5</td>\n",
       "      <td>0</td>\n",
       "      <td>1</td>\n",
       "      <td>0</td>\n",
       "    </tr>\n",
       "    <tr>\n",
       "      <th>5</th>\n",
       "      <td>6</td>\n",
       "      <td>4</td>\n",
       "      <td>0</td>\n",
       "      <td>1</td>\n",
       "      <td>0</td>\n",
       "    </tr>\n",
       "    <tr>\n",
       "      <th>6</th>\n",
       "      <td>1</td>\n",
       "      <td>2</td>\n",
       "      <td>0</td>\n",
       "      <td>0</td>\n",
       "      <td>1</td>\n",
       "    </tr>\n",
       "    <tr>\n",
       "      <th>7</th>\n",
       "      <td>4</td>\n",
       "      <td>9</td>\n",
       "      <td>1</td>\n",
       "      <td>0</td>\n",
       "      <td>0</td>\n",
       "    </tr>\n",
       "  </tbody>\n",
       "</table>\n",
       "</div>"
      ],
      "text/plain": [
       "   X   Y  Cluster1  Cluster2  Cluster3\n",
       "0  2  10         1         0         0\n",
       "1  2   5         0         0         1\n",
       "2  8   4         0         1         0\n",
       "3  5   8         1         0         0\n",
       "4  7   5         0         1         0\n",
       "5  6   4         0         1         0\n",
       "6  1   2         0         0         1\n",
       "7  4   9         1         0         0"
      ]
     },
     "execution_count": 6,
     "metadata": {},
     "output_type": "execute_result"
    }
   ],
   "source": [
    "table1 = pd.DataFrame(list(zip(X, Y,C1,C2,C3)),columns =['X', 'Y','Cluster1','Cluster2','Cluster3'])\n",
    "table1"
   ]
  },
  {
   "cell_type": "markdown",
   "id": "0cf296b7",
   "metadata": {},
   "source": [
    "# Step 2: Find out the centroid."
   ]
  },
  {
   "cell_type": "markdown",
   "id": "38c5dcf1",
   "metadata": {},
   "source": [
    "# centroid of cluster 1 "
   ]
  },
  {
   "cell_type": "code",
   "execution_count": 7,
   "id": "c57d0c79",
   "metadata": {},
   "outputs": [],
   "source": [
    "sum1=sum2=sum3=sum4=0.00"
   ]
  },
  {
   "cell_type": "code",
   "execution_count": 8,
   "id": "85338416",
   "metadata": {},
   "outputs": [
    {
     "name": "stdout",
     "output_type": "stream",
     "text": [
      "centroid of cluster 1 is : 3.67 9.00\n"
     ]
    }
   ],
   "source": [
    "for i in range(n):\n",
    "    cal1=(C1[i]**m)*X[i]\n",
    "    sum1+=np.sum(cal1)\n",
    "    C11=C1[i]**m\n",
    "    sum3+=np.sum(C11)\n",
    "    V11=sum1/sum3\n",
    "\n",
    "for i in range(n):\n",
    "    cal2=(C1[i]**m)*Y[i]\n",
    "    sum2+=np.sum(cal2)\n",
    "    C12=C1[i]**m\n",
    "    sum4+=np.sum(C12)\n",
    "    V12=sum2/sum4\n",
    "print(\"centroid of cluster 1 is :\",'%.2f'% V11, '%.2f'% V12)"
   ]
  },
  {
   "cell_type": "markdown",
   "id": "e67b8dfd",
   "metadata": {},
   "source": [
    "# centroid of cluster 2 "
   ]
  },
  {
   "cell_type": "code",
   "execution_count": 9,
   "id": "74ad4a7f",
   "metadata": {},
   "outputs": [],
   "source": [
    "sum5=sum6=sum7=sum8=0.00"
   ]
  },
  {
   "cell_type": "code",
   "execution_count": 10,
   "id": "0fc246d7",
   "metadata": {},
   "outputs": [
    {
     "name": "stdout",
     "output_type": "stream",
     "text": [
      "centroid of cluster 2 is : 7.00 4.33\n"
     ]
    },
    {
     "name": "stderr",
     "output_type": "stream",
     "text": [
      "C:\\Users\\USER\\AppData\\Local\\Temp/ipykernel_4256/1073301539.py:6: RuntimeWarning: invalid value encountered in double_scalars\n",
      "  V21=sum5/sum6\n",
      "C:\\Users\\USER\\AppData\\Local\\Temp/ipykernel_4256/1073301539.py:13: RuntimeWarning: invalid value encountered in double_scalars\n",
      "  V22=sum7/sum8\n"
     ]
    }
   ],
   "source": [
    "for i in range(n):\n",
    "    cal3=(C2[i]**m)*X[i]\n",
    "    sum5+=np.sum(cal3)\n",
    "    C13=C2[i]**m\n",
    "    sum6+=np.sum(C13)\n",
    "    V21=sum5/sum6\n",
    "\n",
    "for i in range(n):\n",
    "    cal4=(C2[i]**m)*Y[i]\n",
    "    sum7+=np.sum(cal4)\n",
    "    C14=C2[i]**m\n",
    "    sum8+=np.sum(C14)\n",
    "    V22=sum7/sum8\n",
    "print(\"centroid of cluster 2 is :\" ,'%.2f' % V21, '%.2f'% V22)"
   ]
  },
  {
   "cell_type": "markdown",
   "id": "d3f8877f",
   "metadata": {},
   "source": [
    "# centroid of cluster 3"
   ]
  },
  {
   "cell_type": "code",
   "execution_count": 11,
   "id": "b1b2cbdf",
   "metadata": {},
   "outputs": [],
   "source": [
    "sum9=sum10=sum11=sum12=0.00"
   ]
  },
  {
   "cell_type": "code",
   "execution_count": 12,
   "id": "7b6c94a7",
   "metadata": {},
   "outputs": [
    {
     "name": "stdout",
     "output_type": "stream",
     "text": [
      "centroid of cluster 3 is : 1.50 3.50\n"
     ]
    },
    {
     "name": "stderr",
     "output_type": "stream",
     "text": [
      "C:\\Users\\USER\\AppData\\Local\\Temp/ipykernel_4256/2829234285.py:6: RuntimeWarning: invalid value encountered in double_scalars\n",
      "  V31=sum9/sum10\n",
      "C:\\Users\\USER\\AppData\\Local\\Temp/ipykernel_4256/2829234285.py:13: RuntimeWarning: invalid value encountered in double_scalars\n",
      "  V32=sum11/sum12\n"
     ]
    }
   ],
   "source": [
    "for i in range(n):\n",
    "    cal5=(C3[i]**m)*X[i]\n",
    "    sum9+=np.sum(cal5)\n",
    "    C15=C3[i]**m\n",
    "    sum10+=np.sum(C15)\n",
    "    V31=sum9/sum10\n",
    "\n",
    "for i in range(n):\n",
    "    cal6=(C3[i]**m)*Y[i]\n",
    "    sum11+=np.sum(cal6)\n",
    "    C16=C3[i]**m\n",
    "    sum12+=np.sum(C16)\n",
    "    V32=sum11/sum12\n",
    "print(\"centroid of cluster 3 is :\" ,'%.2f' % V31, '%.2f'% V32)"
   ]
  },
  {
   "cell_type": "markdown",
   "id": "34df6ee9",
   "metadata": {},
   "source": [
    "# Step 3: Find out the distance of each point from centroid"
   ]
  },
  {
   "cell_type": "code",
   "execution_count": 13,
   "id": "d26c6e84",
   "metadata": {
    "scrolled": true
   },
   "outputs": [
    {
     "name": "stdout",
     "output_type": "stream",
     "text": [
      "1.9465096968677038\n",
      "7.559689147048309\n",
      "6.519202405202649\n",
      "4.334616476690873\n",
      "5.044690277906068\n",
      "1.5811388300841898\n",
      "6.614295124954737\n",
      "1.0530432089900206\n",
      "6.519202405202649\n",
      "1.664001201922643\n",
      "4.179581318744737\n",
      "5.70087712549569\n",
      "5.204699799219932\n",
      "0.6699999999999999\n",
      "5.70087712549569\n",
      "5.516239661218501\n",
      "1.0530432089900206\n",
      "4.527692569068709\n",
      "7.491922316735539\n",
      "6.436528567481076\n",
      "1.5811388300841898\n",
      "0.33000000000000007\n",
      "5.550576546630088\n",
      "6.041522986797286\n"
     ]
    }
   ],
   "source": [
    "point1 = np.array((2, 10))\n",
    "point2 = np.array((2, 5))\n",
    "point3 = np.array((8, 4))\n",
    "point4 = np.array((5, 8))\n",
    "point5 = np.array((7, 5))\n",
    "point6 = np.array((6, 4))\n",
    "point7 = np.array((1, 2))\n",
    "point8 = np.array((4, 9))\n",
    "Centroid1=np.array((3.67, 9.00))\n",
    "Centroid2=np.array((7.00, 4.33))\n",
    "Centroid3=np.array((1.50, 3.50))\n",
    "point =[point1,point1,point1,point2,point2,point2,point3,point3,point3,point4,point4,point4,point5,point5,point5,point6,point6,point6,point7,point7,point7,point8,point8,point8]\n",
    "Centro= [Centroid1,Centroid2,Centroid3,Centroid1,Centroid2,Centroid3,Centroid1,Centroid2,Centroid3,Centroid1,Centroid2,Centroid3,Centroid1,Centroid2,Centroid3,Centroid1,Centroid2,Centroid3,Centroid1,Centroid2,Centroid3,Centroid1,Centroid2,Centroid3]\n",
    "temp=[0]*24\n",
    "for i in range(len(temp)):\n",
    "    temp[i]=point[i]-Centro[i]   \n",
    "dist=[0]*24\n",
    "for i in range (len(dist)):\n",
    "    dist[i]=np.sqrt(np.dot(temp[i].T, temp[i]))\n",
    "    print ( dist[i])"
   ]
  },
  {
   "cell_type": "markdown",
   "id": "6fb85d2a",
   "metadata": {},
   "source": [
    "# Step 4: Updating membership values"
   ]
  },
  {
   "cell_type": "code",
   "execution_count": 14,
   "id": "26ebc1f2",
   "metadata": {
    "scrolled": true
   },
   "outputs": [
    {
     "name": "stdout",
     "output_type": "stream",
     "text": [
      "0.8655\n",
      "0.0574\n",
      "0.0772\n",
      "0.1081\n",
      "0.0798\n",
      "0.8122\n",
      "0.0241\n",
      "0.9511\n",
      "0.0248\n",
      "0.8041\n",
      "0.1274\n",
      "0.0685\n",
      "0.0161\n",
      "0.9705\n",
      "0.0134\n",
      "0.0334\n",
      "0.9170\n",
      "0.0496\n",
      "0.0403\n",
      "0.0546\n",
      "0.9051\n",
      "0.9935\n",
      "0.0035\n",
      "0.0030\n"
     ]
    }
   ],
   "source": [
    "N= [dist[1],dist[0],dist[1],dist[4],dist[3],dist[3],dist[7],dist[6],dist[6],dist[10],dist[9],dist[10],dist[13],dist[12],dist[14],dist[16],dist[15],dist[15],dist[19],dist[18],dist[19],dist[22],dist[21],dist[21]]\n",
    "P= [dist[2],dist[2],dist[0],dist[5],dist[5],dist[4],dist[8],dist[8],dist[7],dist[11],dist[11],dist[9],dist[14],dist[14],dist[13],dist[17],dist[17],dist[16],dist[20],dist[20],dist[18],dist[23],dist[23],dist[22]]\n",
    "O=[0]*24\n",
    "for i in range(len(dist)):\n",
    "    O[i]=(((dist[i]**2)/(dist[i]**2))+((dist[i]**2)/(N[i]**2))+((dist[i]**2)/(P[i]**2)))**-1\n",
    "    \n",
    "for i in range(len(O)) :\n",
    "    print('%.4f'% O[i])"
   ]
  },
  {
   "cell_type": "markdown",
   "id": "c491bc05",
   "metadata": {},
   "source": [
    "# Result "
   ]
  },
  {
   "cell_type": "code",
   "execution_count": 15,
   "id": "3e1492ec",
   "metadata": {},
   "outputs": [
    {
     "data": {
      "text/html": [
       "<div>\n",
       "<style scoped>\n",
       "    .dataframe tbody tr th:only-of-type {\n",
       "        vertical-align: middle;\n",
       "    }\n",
       "\n",
       "    .dataframe tbody tr th {\n",
       "        vertical-align: top;\n",
       "    }\n",
       "\n",
       "    .dataframe thead th {\n",
       "        text-align: right;\n",
       "    }\n",
       "</style>\n",
       "<table border=\"1\" class=\"dataframe\">\n",
       "  <thead>\n",
       "    <tr style=\"text-align: right;\">\n",
       "      <th></th>\n",
       "      <th>X</th>\n",
       "      <th>Y</th>\n",
       "      <th>Cluster 1</th>\n",
       "      <th>Cluster 2</th>\n",
       "      <th>Cluster 3</th>\n",
       "    </tr>\n",
       "  </thead>\n",
       "  <tbody>\n",
       "    <tr>\n",
       "      <th>0</th>\n",
       "      <td>2</td>\n",
       "      <td>10</td>\n",
       "      <td>0.8655</td>\n",
       "      <td>0.0574</td>\n",
       "      <td>0.0772</td>\n",
       "    </tr>\n",
       "    <tr>\n",
       "      <th>1</th>\n",
       "      <td>2</td>\n",
       "      <td>5</td>\n",
       "      <td>0.1081</td>\n",
       "      <td>0.0798</td>\n",
       "      <td>0.8122</td>\n",
       "    </tr>\n",
       "    <tr>\n",
       "      <th>2</th>\n",
       "      <td>8</td>\n",
       "      <td>4</td>\n",
       "      <td>0.0241</td>\n",
       "      <td>0.9511</td>\n",
       "      <td>0.0248</td>\n",
       "    </tr>\n",
       "    <tr>\n",
       "      <th>3</th>\n",
       "      <td>5</td>\n",
       "      <td>8</td>\n",
       "      <td>0.8041</td>\n",
       "      <td>0.1274</td>\n",
       "      <td>0.0685</td>\n",
       "    </tr>\n",
       "    <tr>\n",
       "      <th>4</th>\n",
       "      <td>7</td>\n",
       "      <td>5</td>\n",
       "      <td>0.0161</td>\n",
       "      <td>0.9705</td>\n",
       "      <td>0.0134</td>\n",
       "    </tr>\n",
       "    <tr>\n",
       "      <th>5</th>\n",
       "      <td>6</td>\n",
       "      <td>4</td>\n",
       "      <td>0.0334</td>\n",
       "      <td>0.9170</td>\n",
       "      <td>0.0496</td>\n",
       "    </tr>\n",
       "    <tr>\n",
       "      <th>6</th>\n",
       "      <td>1</td>\n",
       "      <td>2</td>\n",
       "      <td>0.0403</td>\n",
       "      <td>0.0546</td>\n",
       "      <td>0.9051</td>\n",
       "    </tr>\n",
       "    <tr>\n",
       "      <th>7</th>\n",
       "      <td>4</td>\n",
       "      <td>9</td>\n",
       "      <td>0.9935</td>\n",
       "      <td>0.0035</td>\n",
       "      <td>0.0030</td>\n",
       "    </tr>\n",
       "  </tbody>\n",
       "</table>\n",
       "</div>"
      ],
      "text/plain": [
       "   X   Y  Cluster 1  Cluster 2  Cluster 3\n",
       "0  2  10     0.8655     0.0574     0.0772\n",
       "1  2   5     0.1081     0.0798     0.8122\n",
       "2  8   4     0.0241     0.9511     0.0248\n",
       "3  5   8     0.8041     0.1274     0.0685\n",
       "4  7   5     0.0161     0.9705     0.0134\n",
       "5  6   4     0.0334     0.9170     0.0496\n",
       "6  1   2     0.0403     0.0546     0.9051\n",
       "7  4   9     0.9935     0.0035     0.0030"
      ]
     },
     "execution_count": 15,
     "metadata": {},
     "output_type": "execute_result"
    }
   ],
   "source": [
    "O1=[O[0],O[3],O[6],O[9],O[12],O[15],O[18],O[21]]\n",
    "O2=[O[1],O[4],O[7],O[10],O[13],O[16],O[19],O[22]]\n",
    "O3=[O[2],O[5],O[8],O[11],O[14],O[17],O[20],O[23]]\n",
    "df.insert(2, \"Cluster 1\", O1, True)\n",
    "df.insert(3, \"Cluster 2\", O2 , True)\n",
    "df.insert(4, \"Cluster 3\", O3 , True)\n",
    "df.round(4)"
   ]
  },
  {
   "cell_type": "code",
   "execution_count": null,
   "id": "e1fde000",
   "metadata": {},
   "outputs": [],
   "source": []
  }
 ],
 "metadata": {
  "kernelspec": {
   "display_name": "Python 3 (ipykernel)",
   "language": "python",
   "name": "python3"
  },
  "language_info": {
   "codemirror_mode": {
    "name": "ipython",
    "version": 3
   },
   "file_extension": ".py",
   "mimetype": "text/x-python",
   "name": "python",
   "nbconvert_exporter": "python",
   "pygments_lexer": "ipython3",
   "version": "3.9.7"
  }
 },
 "nbformat": 4,
 "nbformat_minor": 5
}
