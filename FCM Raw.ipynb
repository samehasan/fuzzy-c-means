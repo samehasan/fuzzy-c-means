{
 "cells": [
  {
   "cell_type": "markdown",
   "id": "ab234f91",
   "metadata": {},
   "source": [
    "# Import Library"
   ]
  },
  {
   "cell_type": "code",
   "execution_count": 1,
   "id": "4f96406a",
   "metadata": {},
   "outputs": [],
   "source": [
    "import pandas as pd\n",
    "import numpy as np\n",
    "import operator\n",
    "import math\n",
    "import seaborn as sns\n",
    "import matplotlib.pyplot as plt\n",
    "# Use matplotlib in notebook output\n",
    "%matplotlib inline"
   ]
  },
  {
   "cell_type": "markdown",
   "id": "874bb217",
   "metadata": {},
   "source": [
    "# Input Data"
   ]
  },
  {
   "cell_type": "code",
   "execution_count": 2,
   "id": "cd76b229",
   "metadata": {},
   "outputs": [
    {
     "data": {
      "text/html": [
       "<div>\n",
       "<style scoped>\n",
       "    .dataframe tbody tr th:only-of-type {\n",
       "        vertical-align: middle;\n",
       "    }\n",
       "\n",
       "    .dataframe tbody tr th {\n",
       "        vertical-align: top;\n",
       "    }\n",
       "\n",
       "    .dataframe thead th {\n",
       "        text-align: right;\n",
       "    }\n",
       "</style>\n",
       "<table border=\"1\" class=\"dataframe\">\n",
       "  <thead>\n",
       "    <tr style=\"text-align: right;\">\n",
       "      <th></th>\n",
       "      <th>X</th>\n",
       "      <th>Y</th>\n",
       "    </tr>\n",
       "  </thead>\n",
       "  <tbody>\n",
       "    <tr>\n",
       "      <th>0</th>\n",
       "      <td>1</td>\n",
       "      <td>3</td>\n",
       "    </tr>\n",
       "    <tr>\n",
       "      <th>1</th>\n",
       "      <td>2</td>\n",
       "      <td>5</td>\n",
       "    </tr>\n",
       "    <tr>\n",
       "      <th>2</th>\n",
       "      <td>4</td>\n",
       "      <td>8</td>\n",
       "    </tr>\n",
       "    <tr>\n",
       "      <th>3</th>\n",
       "      <td>7</td>\n",
       "      <td>9</td>\n",
       "    </tr>\n",
       "  </tbody>\n",
       "</table>\n",
       "</div>"
      ],
      "text/plain": [
       "   X  Y\n",
       "0  1  3\n",
       "1  2  5\n",
       "2  4  8\n",
       "3  7  9"
      ]
     },
     "execution_count": 2,
     "metadata": {},
     "output_type": "execute_result"
    }
   ],
   "source": [
    "lst1 = [1,2,4,7]\n",
    "lst2 =[3,5,8,9]\n",
    "df = pd.DataFrame(list(zip(lst1, lst2)),columns =['X', 'Y'])\n",
    "X=df.X\n",
    "Y=df.Y\n",
    "df"
   ]
  },
  {
   "cell_type": "markdown",
   "id": "e80d8c71",
   "metadata": {},
   "source": [
    "# Plot Data"
   ]
  },
  {
   "cell_type": "code",
   "execution_count": 3,
   "id": "92e4b525",
   "metadata": {},
   "outputs": [
    {
     "data": {
      "image/png": "[encoded data removed]",
      "text/plain": [
       "<Figure size 432x288 with 1 Axes>"
      ]
     },
     "metadata": {
      "needs_background": "light"
     },
     "output_type": "display_data"
    }
   ],
   "source": [
    "sns.scatterplot(x=\"X\", y=\"Y\",data=df)\n",
    "plt.show()"
   ]
  },
  {
   "cell_type": "code",
   "execution_count": 4,
   "id": "4f1cd773",
   "metadata": {},
   "outputs": [
    {
     "data": {
      "text/plain": [
       "4"
      ]
     },
     "execution_count": 4,
     "metadata": {},
     "output_type": "execute_result"
    }
   ],
   "source": [
    "#number of data\n",
    "n = len(df)\n",
    "\n",
    "\n",
    "# m parameter\n",
    "m = 2\n",
    "n"
   ]
  },
  {
   "cell_type": "markdown",
   "id": "414a0420",
   "metadata": {},
   "source": [
    "# Step 1: Initialize the data points into desired number of clusters randomly."
   ]
  },
  {
   "cell_type": "code",
   "execution_count": 5,
   "id": "9a9caeb1",
   "metadata": {},
   "outputs": [
    {
     "name": "stdout",
     "output_type": "stream",
     "text": [
      "0    1\n",
      "1    2\n",
      "2    4\n",
      "3    7\n",
      "Name: X, dtype: int64\n",
      "0    3\n",
      "1    5\n",
      "2    8\n",
      "3    9\n",
      "Name: Y, dtype: int64\n",
      "[0.8, 0.7, 0.2, 0.1]\n",
      "[0.2, 0.3, 0.8, 0.9]\n"
     ]
    }
   ],
   "source": [
    "w = [[0.8,0.7,0.2,0.1],[0.2,0.3,0.8,0.9]]\n",
    "w\n",
    "C1=(w[0])\n",
    "C2=(w[1])\n",
    "print(X)\n",
    "print(Y)\n",
    "print(C1)\n",
    "print(C2)"
   ]
  },
  {
   "cell_type": "code",
   "execution_count": 6,
   "id": "0eaf918a",
   "metadata": {},
   "outputs": [
    {
     "data": {
      "text/html": [
       "<div>\n",
       "<style scoped>\n",
       "    .dataframe tbody tr th:only-of-type {\n",
       "        vertical-align: middle;\n",
       "    }\n",
       "\n",
       "    .dataframe tbody tr th {\n",
       "        vertical-align: top;\n",
       "    }\n",
       "\n",
       "    .dataframe thead th {\n",
       "        text-align: right;\n",
       "    }\n",
       "</style>\n",
       "<table border=\"1\" class=\"dataframe\">\n",
       "  <thead>\n",
       "    <tr style=\"text-align: right;\">\n",
       "      <th></th>\n",
       "      <th>X</th>\n",
       "      <th>Y</th>\n",
       "      <th>Cluster1</th>\n",
       "      <th>Cluster2</th>\n",
       "    </tr>\n",
       "  </thead>\n",
       "  <tbody>\n",
       "    <tr>\n",
       "      <th>0</th>\n",
       "      <td>1</td>\n",
       "      <td>3</td>\n",
       "      <td>0.8</td>\n",
       "      <td>0.2</td>\n",
       "    </tr>\n",
       "    <tr>\n",
       "      <th>1</th>\n",
       "      <td>2</td>\n",
       "      <td>5</td>\n",
       "      <td>0.7</td>\n",
       "      <td>0.3</td>\n",
       "    </tr>\n",
       "    <tr>\n",
       "      <th>2</th>\n",
       "      <td>4</td>\n",
       "      <td>8</td>\n",
       "      <td>0.2</td>\n",
       "      <td>0.8</td>\n",
       "    </tr>\n",
       "    <tr>\n",
       "      <th>3</th>\n",
       "      <td>7</td>\n",
       "      <td>9</td>\n",
       "      <td>0.1</td>\n",
       "      <td>0.9</td>\n",
       "    </tr>\n",
       "  </tbody>\n",
       "</table>\n",
       "</div>"
      ],
      "text/plain": [
       "   X  Y  Cluster1  Cluster2\n",
       "0  1  3       0.8       0.2\n",
       "1  2  5       0.7       0.3\n",
       "2  4  8       0.2       0.8\n",
       "3  7  9       0.1       0.9"
      ]
     },
     "execution_count": 6,
     "metadata": {},
     "output_type": "execute_result"
    }
   ],
   "source": [
    "table1 = pd.DataFrame(list(zip(X, Y,C1,C2)),columns =['X', 'Y','Cluster1','Cluster2'])\n",
    "table1"
   ]
  },
  {
   "cell_type": "markdown",
   "id": "c3ba81a5",
   "metadata": {},
   "source": [
    "# Step 2: Find out the centroid."
   ]
  },
  {
   "cell_type": "code",
   "execution_count": 7,
   "id": "928e87e7",
   "metadata": {},
   "outputs": [],
   "source": [
    "sum1=sum2=sum3=sum4=0.00"
   ]
  },
  {
   "cell_type": "code",
   "execution_count": 8,
   "id": "b09c34fb",
   "metadata": {},
   "outputs": [
    {
     "name": "stdout",
     "output_type": "stream",
     "text": [
      "centroid of cluster 1 is : 1.5677966101694916 4.0508474576271185\n"
     ]
    }
   ],
   "source": [
    "for i in range(n):\n",
    "    cal1=(C1[i]**m)*X[i]\n",
    "    sum1+=np.sum(cal1)\n",
    "    C11=C1[i]**m\n",
    "    sum3+=np.sum(C11)\n",
    "    V11=sum1/sum3\n",
    "\n",
    "for i in range(n):\n",
    "    cal2=(C1[i]**m)*Y[i]\n",
    "    sum2+=np.sum(cal2)\n",
    "    C12=C1[i]**m\n",
    "    sum4+=np.sum(C12)\n",
    "    V12=sum2/sum4\n",
    "print(\"centroid of cluster 1 is :\" ,V11,  V12)"
   ]
  },
  {
   "cell_type": "code",
   "execution_count": 9,
   "id": "413ec87c",
   "metadata": {},
   "outputs": [],
   "source": [
    "sum5=sum6=sum7=sum8=0.00"
   ]
  },
  {
   "cell_type": "code",
   "execution_count": 10,
   "id": "8157848c",
   "metadata": {},
   "outputs": [
    {
     "name": "stdout",
     "output_type": "stream",
     "text": [
      "centroid of cluster 2 is : 5.348101265822785 8.215189873417723\n"
     ]
    }
   ],
   "source": [
    "for i in range(n):\n",
    "    cal3=(C2[i]**m)*X[i]\n",
    "    sum5+=np.sum(cal3)\n",
    "    C13=C2[i]**m\n",
    "    sum6+=np.sum(C13)\n",
    "    V21=sum5/sum6\n",
    "\n",
    "for i in range(n):\n",
    "    cal4=(C2[i]**m)*Y[i]\n",
    "    sum7+=np.sum(cal4)\n",
    "    C14=C2[i]**m\n",
    "    sum8+=np.sum(C14)\n",
    "    V22=sum7/sum8\n",
    "print(\"centroid of cluster 2 is :\" ,V21,  V22)"
   ]
  },
  {
   "cell_type": "markdown",
   "id": "b32dcb16",
   "metadata": {},
   "source": [
    "# Step 3: Find out the distance of each point\u000b",
    "from centroid."
   ]
  },
  {
   "cell_type": "code",
   "execution_count": 11,
   "id": "7a12f3d0",
   "metadata": {},
   "outputs": [
    {
     "name": "stdout",
     "output_type": "stream",
     "text": [
      "1.1946652250735352\n",
      "6.791076866005862\n",
      "1.0427008199862506\n",
      "4.643137409123274\n",
      "4.637803898398465\n",
      "1.3670131674566999\n",
      "7.348416496089481\n",
      "1.8272178304734226\n"
     ]
    }
   ],
   "source": [
    "point1 = np.array((1, 3))\n",
    "point2 = np.array((2, 5))\n",
    "point3 = np.array((4, 8))\n",
    "point4 = np.array((7, 9))\n",
    "Centroid1=np.array((1.568, 4.051))\n",
    "Centroid2=np.array((5.35, 8.215))\n",
    "point =[point1,point1,point2,point2,point3,point3,point4,point4]\n",
    "Centro= [Centroid1,Centroid2,Centroid1,Centroid2,Centroid1,Centroid2,Centroid1,Centroid2]\n",
    "temp=[0]*8\n",
    "for i in range(len(temp)):\n",
    "    temp[i]=point[i]-Centro[i]   \n",
    "dist=[0]*8\n",
    "for i in range (len(dist)):\n",
    "    dist[i]=np.sqrt(np.dot(temp[i].T, temp[i]))\n",
    "    print (dist[i])  "
   ]
  },
  {
   "cell_type": "markdown",
   "id": "b67c7c97",
   "metadata": {},
   "source": [
    "# Step 4: Updating membership values"
   ]
  },
  {
   "cell_type": "code",
   "execution_count": 12,
   "id": "efca11f9",
   "metadata": {},
   "outputs": [
    {
     "name": "stdout",
     "output_type": "stream",
     "text": [
      "0.97\n",
      "0.03\n",
      "0.95\n",
      "0.05\n",
      "0.08\n",
      "0.92\n",
      "0.06\n",
      "0.94\n"
     ]
    }
   ],
   "source": [
    "N= [dist[1],dist[0],dist[3],dist[2],dist[5],dist[4],dist[7],dist[6]]\n",
    "O=[0]*8\n",
    "for i in range(len(dist)):\n",
    "    O[i]=(((dist[i]**2)/(dist[i]**2))+((dist[i]**2)/(N[i]**2)))**-1\n",
    "    \n",
    "for i in range(len(O)) :\n",
    "    print('%.2f'% O[i])\n"
   ]
  },
  {
   "cell_type": "code",
   "execution_count": 13,
   "id": "852f09ac",
   "metadata": {},
   "outputs": [
    {
     "data": {
      "text/html": [
       "<div>\n",
       "<style scoped>\n",
       "    .dataframe tbody tr th:only-of-type {\n",
       "        vertical-align: middle;\n",
       "    }\n",
       "\n",
       "    .dataframe tbody tr th {\n",
       "        vertical-align: top;\n",
       "    }\n",
       "\n",
       "    .dataframe thead th {\n",
       "        text-align: right;\n",
       "    }\n",
       "</style>\n",
       "<table border=\"1\" class=\"dataframe\">\n",
       "  <thead>\n",
       "    <tr style=\"text-align: right;\">\n",
       "      <th></th>\n",
       "      <th>X</th>\n",
       "      <th>Y</th>\n",
       "      <th>Cluster 1</th>\n",
       "      <th>Cluster 2</th>\n",
       "    </tr>\n",
       "  </thead>\n",
       "  <tbody>\n",
       "    <tr>\n",
       "      <th>0</th>\n",
       "      <td>1</td>\n",
       "      <td>3</td>\n",
       "      <td>0.97</td>\n",
       "      <td>0.03</td>\n",
       "    </tr>\n",
       "    <tr>\n",
       "      <th>1</th>\n",
       "      <td>2</td>\n",
       "      <td>5</td>\n",
       "      <td>0.95</td>\n",
       "      <td>0.05</td>\n",
       "    </tr>\n",
       "    <tr>\n",
       "      <th>2</th>\n",
       "      <td>4</td>\n",
       "      <td>8</td>\n",
       "      <td>0.08</td>\n",
       "      <td>0.92</td>\n",
       "    </tr>\n",
       "    <tr>\n",
       "      <th>3</th>\n",
       "      <td>7</td>\n",
       "      <td>9</td>\n",
       "      <td>0.06</td>\n",
       "      <td>0.94</td>\n",
       "    </tr>\n",
       "  </tbody>\n",
       "</table>\n",
       "</div>"
      ],
      "text/plain": [
       "   X  Y  Cluster 1  Cluster 2\n",
       "0  1  3       0.97       0.03\n",
       "1  2  5       0.95       0.05\n",
       "2  4  8       0.08       0.92\n",
       "3  7  9       0.06       0.94"
      ]
     },
     "execution_count": 13,
     "metadata": {},
     "output_type": "execute_result"
    }
   ],
   "source": [
    "O1=[O[0],O[2],O[4],O[6]]\n",
    "O2=[O[1],O[3],O[5],O[7]]\n",
    "df.insert(2, \"Cluster 1\", O1, True)\n",
    "df.insert(3, \"Cluster 2\", O2 , True)\n",
    "df.round(2)"
   ]
  },
  {
   "cell_type": "code",
   "execution_count": null,
   "id": "cbfb4cbb",
   "metadata": {},
   "outputs": [],
   "source": []
  }
 ],
 "metadata": {
  "kernelspec": {
   "display_name": "Python 3 (ipykernel)",
   "language": "python",
   "name": "python3"
  },
  "language_info": {
   "codemirror_mode": {
    "name": "ipython",
    "version": 3
   },
   "file_extension": ".py",
   "mimetype": "text/x-python",
   "name": "python",
   "nbconvert_exporter": "python",
   "pygments_lexer": "ipython3",
   "version": "3.9.7"
  }
 },
 "nbformat": 4,
 "nbformat_minor": 5
}
